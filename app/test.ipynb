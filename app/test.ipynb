{
 "cells": [
  {
   "cell_type": "code",
   "execution_count": 8,
   "metadata": {},
   "outputs": [],
   "source": [
    "import geopandas as gpd\n",
    "import pandas as pd\n",
    "import plotly.express as px\n",
    "\n",
    "from configuration import (\n",
    "    DATA_FILE,\n",
    "    META_FILE,\n",
    "    GEO_FILE,\n",
    "    GEO_KEY,\n",
    "    TIER_BINS,\n",
    "    TIER_LABELS,\n",
    "    TIER_COLORS,\n",
    "    OCEAN_COLOR, \n",
    "    INDEX_KEY\n",
    "    \n",
    ")\n",
    "\n",
    "# Loading data\n",
    "data = pd.read_csv(DATA_FILE)\n",
    "metadata = pd.read_csv(META_FILE, index_col=0)\n",
    "geodata = gpd.read_file(GEO_FILE)"
   ]
  },
  {
   "cell_type": "code",
   "execution_count": 5,
   "metadata": {},
   "outputs": [],
   "source": [
    "x_data = 'PIL'"
   ]
  },
  {
   "cell_type": "code",
   "execution_count": 7,
   "metadata": {},
   "outputs": [
    {
     "data": {
      "text/plain": [
       "False"
      ]
     },
     "execution_count": 7,
     "metadata": {},
     "output_type": "execute_result"
    }
   ],
   "source": [
    "metadata.query(\"name == @x_data\")['source'].any()"
   ]
  },
  {
   "cell_type": "code",
   "execution_count": 13,
   "metadata": {},
   "outputs": [
    {
     "data": {
      "text/plain": [
       "year\n",
       "2018   NaN\n",
       "2019   NaN\n",
       "2020   NaN\n",
       "2021   NaN\n",
       "2022   NaN\n",
       "2023   NaN\n",
       "Name: PIL per abitante, dtype: float64"
      ]
     },
     "execution_count": 13,
     "metadata": {},
     "output_type": "execute_result"
    }
   ],
   "source": [
    "data.set_index(['territory', 'year'])['PIL per abitante'].loc['Centro']"
   ]
  },
  {
   "cell_type": "code",
   "execution_count": null,
   "metadata": {},
   "outputs": [],
   "source": []
  }
 ],
 "metadata": {
  "kernelspec": {
   "display_name": "data",
   "language": "python",
   "name": "python3"
  },
  "language_info": {
   "codemirror_mode": {
    "name": "ipython",
    "version": 3
   },
   "file_extension": ".py",
   "mimetype": "text/x-python",
   "name": "python",
   "nbconvert_exporter": "python",
   "pygments_lexer": "ipython3",
   "version": "3.9.15"
  }
 },
 "nbformat": 4,
 "nbformat_minor": 2
}
