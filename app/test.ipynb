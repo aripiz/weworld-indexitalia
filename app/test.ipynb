{
 "cells": [
  {
   "cell_type": "code",
   "execution_count": 3,
   "metadata": {},
   "outputs": [],
   "source": [
    "import geopandas as gpd\n",
    "import pandas as pd\n",
    "import plotly.express as px\n",
    "\n",
    "from configuration import (\n",
    "    DATA_FILE,\n",
    "    META_FILE,\n",
    "    GEO_FILE,\n",
    "    SUMMARY_FILE\n",
    "    \n",
    ")\n",
    "\n",
    "# Loading data\n",
    "data = pd.read_csv(DATA_FILE)\n",
    "metadata = pd.read_csv(META_FILE, index_col=0)\n",
    "geodata = gpd.read_file(GEO_FILE)\n",
    "summary = pd.read_csv(SUMMARY_FILE, index_col=0)"
   ]
  },
  {
   "cell_type": "code",
   "execution_count": 4,
   "metadata": {},
   "outputs": [
    {
     "data": {
      "application/vnd.microsoft.datawrangler.viewer.v0+json": {
       "columns": [
        {
         "name": "territory",
         "rawType": "object",
         "type": "string"
        },
        {
         "name": "summary",
         "rawType": "object",
         "type": "string"
        }
       ],
       "conversionMethod": "pd.DataFrame",
       "ref": "254e8ba1-3057-440a-8150-f58ff9886c88",
       "rows": [
        [
         "Abruzzo",
         "Presenta un buon andamento nelle dimensioni Istruzione e Capitale umano dei minori, mentre mostra delle criticità nella dimensione Violenza contro donne e minori."
        ],
        [
         "Basilicata",
         "Si distingue per la buona performance in Ambiente e Sicurezza e protezione, ma presenta delle criticità per quanto riguarda la Salute e le Opportunità economiche delle donne."
        ],
        [
         "Calabria",
         "Si distingue per l'Ambiente, ma ha bisogno di miglioramenti in diverse dimensioni, come in quelle del Sottoindice delle donne, e nel Capitale economico dei minori."
        ],
        [
         "Campania",
         "Presenta alcune criticità nella riduzione della Povertà educativa, e, in generale, nelle dimensioni del Sottoindice delle donne, mentre mostra risultati più positivi nelle dimensioni Abitazione e Digitalizzazione."
        ],
        [
         "Centro",
         "Si distingue positivamente nella dimensione Abitazione e nella diminuzione della Povertà educativa, mentre presenta delle criticità nelle Opportunità economiche delle donne."
        ],
        [
         "Emilia-Romagna",
         "Si distingue per la Digitalizzazione e la Partecipazione politica delle donne, mentre presenta delle criticità nelle dimensioni Ambiente e Sicurezza e protezione."
        ],
        [
         "Friuli-Venezia Giulia",
         "Si distingue nel contrasto alla Povertà educativa, ma presenta delle criticità nelle dimensioni Ambiente e Opportunità economiche delle donne."
        ],
        [
         "Isole",
         "Presenta delle criticità nel contrasto alla Povertà educativa e, in generale, nelle dimensioni del Sottoindice delle Donne, mentre si distingue positivamente per l’Ambiente."
        ],
        [
         "Italia",
         "Presenta delle forti criticità nelle dimensioni del Sottoindice delle Donne, mentre il Sottoindice di Contesto è quello in cui si osserva la performance migliore."
        ],
        [
         "Lazio",
         "Presenta delle criticità nelle dimensioni Salute e Opportunità economiche delle donne, ma si distingue positivamente per l’Educazione delle donne e per il Capitale umano dei minori."
        ],
        [
         "Liguria",
         "Mostra una buona performance nella dimensione Salute dei minori, ma presenta delle criticità per quanto riguarda la Violenza contro donne e minori e le Opportunità economiche delle donne."
        ],
        [
         "Lombardia",
         "Si distingue per il Capitale umano ed economico dei minori e per il contrasto alla Violenza contro donne e minori, ma ha bisogno di miglioramenti sul fronte ambientale e nelle Opportunità economiche delle donne."
        ],
        [
         "Marche",
         "Si distingue per l’Educazione e le Opportunità economiche delle donne, mentre presenta delle criticità nella Violenza contro donne e minori e nella Partecipazione politica delle donne."
        ],
        [
         "Molise",
         "Si distingue positivamente per le dimensioni Ambiente e Sicurezza e protezione, ma presenta criticità nella Digitalizzazione, e, in generale, nelle dimensioni del Sottoindice delle donne."
        ],
        [
         "Nord-est",
         "Presenta delle criticità nell’Ambiente e nelle Opportunità economiche delle donne, mentre si distingue per le dimensioni Abitazione e Partecipazione politica delle donne."
        ],
        [
         "Nord-ovest",
         "Presenta delle criticità nelle dimensioni Ambiente, Salute e Partecipazione politica delle donne, mentre mostra una buona performance nel Capitale umano ed economico dei minori."
        ],
        [
         "Piemonte",
         "Presenta delle criticità nella Salute dei minori, e, in generale, nelle dimensioni del Sottoindice delle donne, mentre mostra una buona performance nel contrasto alla Violenza contro donne e minori."
        ],
        [
         "Provincia Autonoma di Bolzano/Bozen",
         "Si distingue per il Capitale economico dei minori e la Salute delle donne, mentre mostra delle criticità nella Violenza contro donne e minori e nella Conciliazione vita-lavoro."
        ],
        [
         "Provincia Autonoma di Trento",
         "Si distingue per la diminuzione della Povertà educativa e la Conciliazione vita-lavoro, mentre l'Ambiente e le Opportunità economiche delle donne presentano delle criticità."
        ],
        [
         "Puglia",
         "Presenta delle forti criticità nell'Educazione e nelle Opportunità economiche per le donne, mentre una buona performance in ambito ambientale."
        ],
        [
         "Sardegna",
         "Si distingue per la dimensione Ambiente, mentre presenta alcune difficoltà nella sfera economica di donne e minori."
        ],
        [
         "Sicilia",
         "Ha bisogno di miglioramenti nella Conciliazione vita-lavoro e nell'Educazione delle donne, mentre l'Ambiente si distingue positivamente."
        ],
        [
         "Sud",
         "Presenta delle forti criticità nel Sottoindice delle Donne, mentre mostra una buona performance nelle dimensioni Ambiente e Sicurezza e protezione."
        ],
        [
         "Toscana",
         "Si distingue nella Digitalizzazione e nel contrasto alla Violenza contro donne e minori, mentre presenta delle criticità nella dimensione Ambiente e Sicurezza e protezione."
        ],
        [
         "Umbria",
         "Si distingue per l’Istruzione dei minori e nella Conciliazione vita-lavoro, mentre la Salute delle donne presenta delle criticità."
        ],
        [
         "Valle d'Aosta/Vallée d'Aoste",
         "Si distingue positivamente per Sicurezza e protezione e Opportunità economiche delle donne, mentre le dimensioni Ambiente e Abitazione necessitano di miglioramenti."
        ],
        [
         "Veneto",
         "Si distingue positivamente per l'Abitazione e il Capitale umano dei minori, ma mostra delle criticità nella dimensione Sicurezza e protezione e Ambiente."
        ]
       ],
       "shape": {
        "columns": 1,
        "rows": 27
       }
      },
      "text/html": [
       "<div>\n",
       "<style scoped>\n",
       "    .dataframe tbody tr th:only-of-type {\n",
       "        vertical-align: middle;\n",
       "    }\n",
       "\n",
       "    .dataframe tbody tr th {\n",
       "        vertical-align: top;\n",
       "    }\n",
       "\n",
       "    .dataframe thead th {\n",
       "        text-align: right;\n",
       "    }\n",
       "</style>\n",
       "<table border=\"1\" class=\"dataframe\">\n",
       "  <thead>\n",
       "    <tr style=\"text-align: right;\">\n",
       "      <th></th>\n",
       "      <th>summary</th>\n",
       "    </tr>\n",
       "    <tr>\n",
       "      <th>territory</th>\n",
       "      <th></th>\n",
       "    </tr>\n",
       "  </thead>\n",
       "  <tbody>\n",
       "    <tr>\n",
       "      <th>Abruzzo</th>\n",
       "      <td>Presenta un buon andamento nelle dimensioni Is...</td>\n",
       "    </tr>\n",
       "    <tr>\n",
       "      <th>Basilicata</th>\n",
       "      <td>Si distingue per la buona performance in Ambie...</td>\n",
       "    </tr>\n",
       "    <tr>\n",
       "      <th>Calabria</th>\n",
       "      <td>Si distingue per l'Ambiente, ma ha bisogno di ...</td>\n",
       "    </tr>\n",
       "    <tr>\n",
       "      <th>Campania</th>\n",
       "      <td>Presenta alcune criticità nella riduzione dell...</td>\n",
       "    </tr>\n",
       "    <tr>\n",
       "      <th>Centro</th>\n",
       "      <td>Si distingue positivamente nella dimensione Ab...</td>\n",
       "    </tr>\n",
       "    <tr>\n",
       "      <th>Emilia-Romagna</th>\n",
       "      <td>Si distingue per la Digitalizzazione e la Part...</td>\n",
       "    </tr>\n",
       "    <tr>\n",
       "      <th>Friuli-Venezia Giulia</th>\n",
       "      <td>Si distingue nel contrasto alla Povertà educat...</td>\n",
       "    </tr>\n",
       "    <tr>\n",
       "      <th>Isole</th>\n",
       "      <td>Presenta delle criticità nel contrasto alla Po...</td>\n",
       "    </tr>\n",
       "    <tr>\n",
       "      <th>Italia</th>\n",
       "      <td>Presenta delle forti criticità nelle dimension...</td>\n",
       "    </tr>\n",
       "    <tr>\n",
       "      <th>Lazio</th>\n",
       "      <td>Presenta delle criticità nelle dimensioni Salu...</td>\n",
       "    </tr>\n",
       "    <tr>\n",
       "      <th>Liguria</th>\n",
       "      <td>Mostra una buona performance nella dimensione ...</td>\n",
       "    </tr>\n",
       "    <tr>\n",
       "      <th>Lombardia</th>\n",
       "      <td>Si distingue per il Capitale umano ed economic...</td>\n",
       "    </tr>\n",
       "    <tr>\n",
       "      <th>Marche</th>\n",
       "      <td>Si distingue per l’Educazione e le Opportunità...</td>\n",
       "    </tr>\n",
       "    <tr>\n",
       "      <th>Molise</th>\n",
       "      <td>Si distingue positivamente per le dimensioni A...</td>\n",
       "    </tr>\n",
       "    <tr>\n",
       "      <th>Nord-est</th>\n",
       "      <td>Presenta delle criticità nell’Ambiente e nelle...</td>\n",
       "    </tr>\n",
       "    <tr>\n",
       "      <th>Nord-ovest</th>\n",
       "      <td>Presenta delle criticità nelle dimensioni Ambi...</td>\n",
       "    </tr>\n",
       "    <tr>\n",
       "      <th>Piemonte</th>\n",
       "      <td>Presenta delle criticità nella Salute dei mino...</td>\n",
       "    </tr>\n",
       "    <tr>\n",
       "      <th>Provincia Autonoma di Bolzano/Bozen</th>\n",
       "      <td>Si distingue per il Capitale economico dei min...</td>\n",
       "    </tr>\n",
       "    <tr>\n",
       "      <th>Provincia Autonoma di Trento</th>\n",
       "      <td>Si distingue per la diminuzione della Povertà ...</td>\n",
       "    </tr>\n",
       "    <tr>\n",
       "      <th>Puglia</th>\n",
       "      <td>Presenta delle forti criticità nell'Educazione...</td>\n",
       "    </tr>\n",
       "    <tr>\n",
       "      <th>Sardegna</th>\n",
       "      <td>Si distingue per la dimensione Ambiente, mentr...</td>\n",
       "    </tr>\n",
       "    <tr>\n",
       "      <th>Sicilia</th>\n",
       "      <td>Ha bisogno di miglioramenti nella Conciliazion...</td>\n",
       "    </tr>\n",
       "    <tr>\n",
       "      <th>Sud</th>\n",
       "      <td>Presenta delle forti criticità nel Sottoindice...</td>\n",
       "    </tr>\n",
       "    <tr>\n",
       "      <th>Toscana</th>\n",
       "      <td>Si distingue nella Digitalizzazione e nel cont...</td>\n",
       "    </tr>\n",
       "    <tr>\n",
       "      <th>Umbria</th>\n",
       "      <td>Si distingue per l’Istruzione dei minori e nel...</td>\n",
       "    </tr>\n",
       "    <tr>\n",
       "      <th>Valle d'Aosta/Vallée d'Aoste</th>\n",
       "      <td>Si distingue positivamente per Sicurezza e pro...</td>\n",
       "    </tr>\n",
       "    <tr>\n",
       "      <th>Veneto</th>\n",
       "      <td>Si distingue positivamente per l'Abitazione e ...</td>\n",
       "    </tr>\n",
       "  </tbody>\n",
       "</table>\n",
       "</div>"
      ],
      "text/plain": [
       "                                                                               summary\n",
       "territory                                                                             \n",
       "Abruzzo                              Presenta un buon andamento nelle dimensioni Is...\n",
       "Basilicata                           Si distingue per la buona performance in Ambie...\n",
       "Calabria                             Si distingue per l'Ambiente, ma ha bisogno di ...\n",
       "Campania                             Presenta alcune criticità nella riduzione dell...\n",
       "Centro                               Si distingue positivamente nella dimensione Ab...\n",
       "Emilia-Romagna                       Si distingue per la Digitalizzazione e la Part...\n",
       "Friuli-Venezia Giulia                Si distingue nel contrasto alla Povertà educat...\n",
       "Isole                                Presenta delle criticità nel contrasto alla Po...\n",
       "Italia                               Presenta delle forti criticità nelle dimension...\n",
       "Lazio                                Presenta delle criticità nelle dimensioni Salu...\n",
       "Liguria                              Mostra una buona performance nella dimensione ...\n",
       "Lombardia                            Si distingue per il Capitale umano ed economic...\n",
       "Marche                               Si distingue per l’Educazione e le Opportunità...\n",
       "Molise                               Si distingue positivamente per le dimensioni A...\n",
       "Nord-est                             Presenta delle criticità nell’Ambiente e nelle...\n",
       "Nord-ovest                           Presenta delle criticità nelle dimensioni Ambi...\n",
       "Piemonte                             Presenta delle criticità nella Salute dei mino...\n",
       "Provincia Autonoma di Bolzano/Bozen  Si distingue per il Capitale economico dei min...\n",
       "Provincia Autonoma di Trento         Si distingue per la diminuzione della Povertà ...\n",
       "Puglia                               Presenta delle forti criticità nell'Educazione...\n",
       "Sardegna                             Si distingue per la dimensione Ambiente, mentr...\n",
       "Sicilia                              Ha bisogno di miglioramenti nella Conciliazion...\n",
       "Sud                                  Presenta delle forti criticità nel Sottoindice...\n",
       "Toscana                              Si distingue nella Digitalizzazione e nel cont...\n",
       "Umbria                               Si distingue per l’Istruzione dei minori e nel...\n",
       "Valle d'Aosta/Vallée d'Aoste         Si distingue positivamente per Sicurezza e pro...\n",
       "Veneto                               Si distingue positivamente per l'Abitazione e ..."
      ]
     },
     "execution_count": 4,
     "metadata": {},
     "output_type": "execute_result"
    }
   ],
   "source": [
    "summary"
   ]
  },
  {
   "cell_type": "code",
   "execution_count": null,
   "metadata": {},
   "outputs": [],
   "source": []
  }
 ],
 "metadata": {
  "kernelspec": {
   "display_name": "data",
   "language": "python",
   "name": "python3"
  },
  "language_info": {
   "codemirror_mode": {
    "name": "ipython",
    "version": 3
   },
   "file_extension": ".py",
   "mimetype": "text/x-python",
   "name": "python",
   "nbconvert_exporter": "python",
   "pygments_lexer": "ipython3",
   "version": "3.9.15"
  }
 },
 "nbformat": 4,
 "nbformat_minor": 2
}
