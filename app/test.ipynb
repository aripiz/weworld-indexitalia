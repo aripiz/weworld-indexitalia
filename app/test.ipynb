{
 "cells": [
  {
   "cell_type": "code",
   "execution_count": 2,
   "metadata": {},
   "outputs": [],
   "source": [
    "import geopandas as gpd\n",
    "import pandas as pd\n",
    "import plotly.express as px\n",
    "\n",
    "from configuration import (\n",
    "    DATA_FILE,\n",
    "    META_FILE,\n",
    "    GEO_FILE,\n",
    "    GEO_KEY,\n",
    "    TIER_BINS,\n",
    "    TIER_LABELS,\n",
    "    TIER_COLORS,\n",
    "    OCEAN_COLOR, \n",
    "    INDEX_KEY\n",
    "    \n",
    ")\n",
    "\n",
    "# Loading data\n",
    "data = pd.read_csv(DATA_FILE)\n",
    "metadata = pd.read_csv(META_FILE, index_col=0)\n",
    "geodata = gpd.read_file(GEO_FILE)"
   ]
  },
  {
   "cell_type": "code",
   "execution_count": 3,
   "metadata": {},
   "outputs": [
    {
     "name": "stdout",
     "output_type": "stream",
     "text": [
      "<class 'pandas.core.frame.DataFrame'>\n",
      "RangeIndex: 168 entries, 0 to 167\n",
      "Data columns (total 91 columns):\n",
      " #   Column                           Non-Null Count  Dtype  \n",
      "---  ------                           --------------  -----  \n",
      " 0   territory                        168 non-null    object \n",
      " 1   year                             168 non-null    int64  \n",
      " 2   area                             126 non-null    object \n",
      " 3   code                             126 non-null    float64\n",
      " 4   surface                          126 non-null    float64\n",
      " 5   WeWorld Index Italia             162 non-null    float64\n",
      " 6   Contesto                         162 non-null    float64\n",
      " 7   Minori                           162 non-null    float64\n",
      " 8   Donne                            162 non-null    float64\n",
      " 9   Ambiente                         162 non-null    float64\n",
      " 10  Abitazione                       162 non-null    float64\n",
      " 11  Digitalizzazione                 162 non-null    float64\n",
      " 12  Sicurezza e protezione           162 non-null    float64\n",
      " 13  Violenza contro donne e bambini  162 non-null    float64\n",
      " 14  Salute e assistenza              162 non-null    float64\n",
      " 15  Istruzione                       162 non-null    float64\n",
      " 16  Povertà educativa                162 non-null    float64\n",
      " 17  Capitale umano                   162 non-null    float64\n",
      " 18  Capitale economico               162 non-null    float64\n",
      " 19  Salute e benessere               162 non-null    float64\n",
      " 20  Educazione                       162 non-null    float64\n",
      " 21  Opportunità economiche           162 non-null    float64\n",
      " 22  Conciliazione vita-lavoro        162 non-null    float64\n",
      " 23  Partecipazione politica          162 non-null    float64\n",
      " 24  Indicatore 1                     162 non-null    float64\n",
      " 25  Indicatore 2                     162 non-null    float64\n",
      " 26  Indicatore 3                     162 non-null    float64\n",
      " 27  Indicatore 4                     162 non-null    float64\n",
      " 28  Indicatore 5                     162 non-null    float64\n",
      " 29  Indicatore 6                     162 non-null    float64\n",
      " 30  Indicatore 7                     162 non-null    float64\n",
      " 31  Indicatore 8                     162 non-null    float64\n",
      " 32  Indicatore 9                     162 non-null    float64\n",
      " 33  Indicatore 10                    162 non-null    float64\n",
      " 34  Indicatore 11                    162 non-null    float64\n",
      " 35  Indicatore 12                    162 non-null    float64\n",
      " 36  Indicatore 13                    162 non-null    float64\n",
      " 37  Indicatore 14                    162 non-null    float64\n",
      " 38  Indicatore 15                    162 non-null    float64\n",
      " 39  Indicatore 16                    162 non-null    float64\n",
      " 40  Indicatore 17                    162 non-null    float64\n",
      " 41  Indicatore 18                    162 non-null    float64\n",
      " 42  Indicatore 19                    162 non-null    float64\n",
      " 43  Indicatore 20                    162 non-null    float64\n",
      " 44  Indicatore 21                    162 non-null    float64\n",
      " 45  Indicatore 22                    162 non-null    float64\n",
      " 46  Indicatore 23                    162 non-null    float64\n",
      " 47  Indicatore 24                    162 non-null    float64\n",
      " 48  Indicatore 25                    162 non-null    float64\n",
      " 49  Indicatore 26                    162 non-null    float64\n",
      " 50  Indicatore 27                    162 non-null    float64\n",
      " 51  Indicatore 28                    162 non-null    float64\n",
      " 52  Indicatore 29                    162 non-null    float64\n",
      " 53  Indicatore 30                    162 non-null    float64\n",
      " 54  Indicatore 1 (dato)              162 non-null    float64\n",
      " 55  Indicatore 2 (dato)              162 non-null    float64\n",
      " 56  Indicatore 3 (dato)              162 non-null    float64\n",
      " 57  Indicatore 4 (dato)              162 non-null    float64\n",
      " 58  Indicatore 5 (dato)              162 non-null    float64\n",
      " 59  Indicatore 6 (dato)              162 non-null    float64\n",
      " 60  Indicatore 7 (dato)              162 non-null    float64\n",
      " 61  Indicatore 8 (dato)              162 non-null    float64\n",
      " 62  Indicatore 9 (dato)              150 non-null    float64\n",
      " 63  Indicatore 10 (dato)             156 non-null    float64\n",
      " 64  Indicatore 11 (dato)             162 non-null    float64\n",
      " 65  Indicatore 12 (dato)             162 non-null    float64\n",
      " 66  Indicatore 13 (dato)             162 non-null    float64\n",
      " 67  Indicatore 14 (dato)             162 non-null    float64\n",
      " 68  Indicatore 15 (dato)             162 non-null    float64\n",
      " 69  Indicatore 16 (dato)             162 non-null    float64\n",
      " 70  Indicatore 17 (dato)             162 non-null    float64\n",
      " 71  Indicatore 18 (dato)             162 non-null    float64\n",
      " 72  Indicatore 19 (dato)             162 non-null    float64\n",
      " 73  Indicatore 20 (dato)             162 non-null    float64\n",
      " 74  Indicatore 21 (dato)             162 non-null    float64\n",
      " 75  Indicatore 22 (dato)             162 non-null    float64\n",
      " 76  Indicatore 23 (dato)             162 non-null    float64\n",
      " 77  Indicatore 24 (dato)             162 non-null    float64\n",
      " 78  Indicatore 25 (dato)             162 non-null    float64\n",
      " 79  Indicatore 26 (dato)             162 non-null    float64\n",
      " 80  Indicatore 27 (dato)             162 non-null    float64\n",
      " 81  Indicatore 28 (dato)             162 non-null    float64\n",
      " 82  Indicatore 29 (dato)             162 non-null    float64\n",
      " 83  Indicatore 30 (dato)             162 non-null    float64\n",
      " 84  Popolazione (totale)             126 non-null    float64\n",
      " 85  Popolazione (0-17)               126 non-null    float64\n",
      " 86  Popolazione (donne)              126 non-null    float64\n",
      " 87  Popolazione (0-13)               126 non-null    float64\n",
      " 88  1                                21 non-null     float64\n",
      " 89  2                                110 non-null    float64\n",
      " 90  3                                156 non-null    float64\n",
      "dtypes: float64(88), int64(1), object(2)\n",
      "memory usage: 119.6+ KB\n"
     ]
    }
   ],
   "source": [
    "data.info(\n",
    ")"
   ]
  },
  {
   "cell_type": "code",
   "execution_count": 4,
   "metadata": {},
   "outputs": [],
   "source": [
    "click = {'points': [{'curveNumber': 2, 'pointNumber': 4, 'pointIndex': 4, 'location': 3, 'z': 1, 'bbox': {'x0': 643.3940514808464, 'x1': 643.3940514808464, 'y0': 377.2387343900939, 'y1': 377.2387343900939}, 'customdata': ['Lombardia', 'Nord-ovest', 60.7, 'Base', 2023]}]}"
   ]
  },
  {
   "cell_type": "code",
   "execution_count": 8,
   "metadata": {},
   "outputs": [
    {
     "data": {
      "text/plain": [
       "{'curveNumber': 2,\n",
       " 'pointNumber': 4,\n",
       " 'pointIndex': 4,\n",
       " 'location': 3,\n",
       " 'z': 1,\n",
       " 'bbox': {'x0': 643.3940514808464,\n",
       "  'x1': 643.3940514808464,\n",
       "  'y0': 377.2387343900939,\n",
       "  'y1': 377.2387343900939},\n",
       " 'customdata': ['Lombardia', 'Nord-ovest', 60.7, 'Base', 2023]}"
      ]
     },
     "execution_count": 8,
     "metadata": {},
     "output_type": "execute_result"
    }
   ],
   "source": [
    "click['points'][0]"
   ]
  },
  {
   "cell_type": "code",
   "execution_count": 15,
   "metadata": {},
   "outputs": [
    {
     "data": {
      "text/plain": [
       "Index(['territory', 'year', 'area', 'code', 'surface', 'WeWorld Index Italia',\n",
       "       'Contesto', 'Minori', 'Donne', 'Ambiente', 'Abitazione',\n",
       "       'Digitalizzazione', 'Sicurezza e protezione',\n",
       "       'Violenza contro donne e bambini', 'Salute e assistenza', 'Istruzione',\n",
       "       'Povertà educativa', 'Capitale umano', 'Capitale economico',\n",
       "       'Salute e benessere', 'Educazione', 'Opportunità economiche',\n",
       "       'Conciliazione vita-lavoro', 'Partecipazione politica', 'Indicatore 1',\n",
       "       'Indicatore 2', 'Indicatore 3', 'Indicatore 4', 'Indicatore 5',\n",
       "       'Indicatore 6', 'Indicatore 7', 'Indicatore 8', 'Indicatore 9',\n",
       "       'Indicatore 10', 'Indicatore 11', 'Indicatore 12', 'Indicatore 13',\n",
       "       'Indicatore 14', 'Indicatore 15', 'Indicatore 16', 'Indicatore 17',\n",
       "       'Indicatore 18', 'Indicatore 19', 'Indicatore 20', 'Indicatore 21',\n",
       "       'Indicatore 22', 'Indicatore 23', 'Indicatore 24', 'Indicatore 25',\n",
       "       'Indicatore 26', 'Indicatore 27', 'Indicatore 28', 'Indicatore 29',\n",
       "       'Indicatore 30', 'Indicatore 1 (dato)', 'Indicatore 2 (dato)',\n",
       "       'Indicatore 3 (dato)', 'Indicatore 4 (dato)', 'Indicatore 5 (dato)',\n",
       "       'Indicatore 6 (dato)', 'Indicatore 7 (dato)', 'Indicatore 8 (dato)',\n",
       "       'Indicatore 9 (dato)', 'Indicatore 10 (dato)', 'Indicatore 11 (dato)',\n",
       "       'Indicatore 12 (dato)', 'Indicatore 13 (dato)', 'Indicatore 14 (dato)',\n",
       "       'Indicatore 15 (dato)', 'Indicatore 16 (dato)', 'Indicatore 17 (dato)',\n",
       "       'Indicatore 18 (dato)', 'Indicatore 19 (dato)', 'Indicatore 20 (dato)',\n",
       "       'Indicatore 21 (dato)', 'Indicatore 22 (dato)', 'Indicatore 23 (dato)',\n",
       "       'Indicatore 24 (dato)', 'Indicatore 25 (dato)', 'Indicatore 26 (dato)',\n",
       "       'Indicatore 27 (dato)', 'Indicatore 28 (dato)', 'Indicatore 29 (dato)',\n",
       "       'Indicatore 30 (dato)', 'Popolazione (totale)', 'Popolazione (0-17)',\n",
       "       'Popolazione (donne)', 'Popolazione (0-13)', '1', '2', '3'],\n",
       "      dtype='object')"
      ]
     },
     "execution_count": 15,
     "metadata": {},
     "output_type": "execute_result"
    }
   ],
   "source": [
    "data.columns"
   ]
  },
  {
   "cell_type": "code",
   "execution_count": null,
   "metadata": {},
   "outputs": [],
   "source": []
  }
 ],
 "metadata": {
  "kernelspec": {
   "display_name": "data",
   "language": "python",
   "name": "python3"
  },
  "language_info": {
   "codemirror_mode": {
    "name": "ipython",
    "version": 3
   },
   "file_extension": ".py",
   "mimetype": "text/x-python",
   "name": "python",
   "nbconvert_exporter": "python",
   "pygments_lexer": "ipython3",
   "version": "3.9.15"
  }
 },
 "nbformat": 4,
 "nbformat_minor": 2
}
